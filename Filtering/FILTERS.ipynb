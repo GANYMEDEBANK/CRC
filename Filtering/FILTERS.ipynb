{
  "nbformat": 4,
  "nbformat_minor": 0,
  "metadata": {
    "colab": {
      "provenance": []
    },
    "kernelspec": {
      "name": "python3",
      "display_name": "Python 3"
    },
    "language_info": {
      "name": "python"
    }
  },
  "cells": [
    {
      "cell_type": "code",
      "source": [
        "from google.colab import drive\n",
        "drive.mount('/content/drive')"
      ],
      "metadata": {
        "colab": {
          "base_uri": "https://localhost:8080/"
        },
        "id": "vxxD0AwXaovW",
        "outputId": "0d19fb38-1525-400b-df1c-954310bb0607"
      },
      "execution_count": null,
      "outputs": [
        {
          "output_type": "stream",
          "name": "stdout",
          "text": [
            "Drive already mounted at /content/drive; to attempt to forcibly remount, call drive.mount(\"/content/drive\", force_remount=True).\n"
          ]
        }
      ]
    },
    {
      "cell_type": "code",
      "source": [
        "# -*- coding: utf-8 -*-\n",
        "\"\"\"\n",
        "Created on Sat Dec 17 14:06:56 2022\n",
        "\n",
        "@author: NAZMUL\n",
        "\"\"\"\n",
        "\n",
        "from PIL import Image\n",
        "import matplotlib\n",
        "matplotlib.use('Agg')  # Use the 'Agg' backend for saving images\n",
        "import matplotlib.pyplot as plt\n",
        "import glob,os,cv2\n",
        "from imgaug import augmenters as iaa\n",
        "from skimage.filters import gaussian, unsharp_mask\n",
        "\n",
        "\n",
        "\n",
        "tec = [None]*10\n",
        "#conv\n",
        "tec[0] = iaa.EdgeDetect(alpha=(0.1))\n",
        "tec[1] = iaa.Sharpen(alpha=(0.5), lightness=(1.5))\n",
        "tec[2] = iaa.MultiplyHueAndSaturation((1.0), per_channel=True)\n",
        "tec[3] = iaa.Emboss(alpha=(0.0, 1.0), strength=(0.5, 1.5))\n",
        "\n",
        "\n",
        "#\n",
        "tec[4] = iaa.Invert(0.50)\n",
        "\n",
        "\n",
        "#contrast\n",
        "\n",
        "tec[5] = iaa.GammaContrast((1.0, 1.25))\n",
        "tec[6] = iaa.SigmoidContrast(gain=(3, 10), cutoff=(0.4, 0.6))\n",
        "tec[7] = iaa.HistogramEqualization()\n",
        "tec[8] = iaa.LinearContrast((0.4, 1.6))\n",
        "tec[9] = iaa.GaussianBlur(sigma=(0.5, 0.5)) # main gaussian used 0.6\n",
        "\n",
        "img = cv2.imread(\"/content/image_571.png\")\n",
        "\n",
        "# fim = tec[7].augment_image(img)\n",
        "# fim = tec[9].augment_image(fim)\n",
        "#fim = tec[8].augment_image(fim)\n",
        "\n",
        "#fim = unsharp_mask(img, radius=2, amount=1)\n",
        "\n",
        "#fim = tec[9].augment_image(img)\n",
        "#fim =  cv2.bilateralFilter(fim,3,90,90)\n",
        "\n",
        "bilateral = cv2.bilateralFilter(img,3,90,90)\n",
        "# Gaussian = tec[9].augment_image(img)\n",
        "# median = cv2.medianBlur(img,3)\n",
        "\n",
        "# im = (img - Gaussian)*1\n",
        "# unsharp = img+im\n",
        "\n",
        "# tm = tec[7].augment_image(img)\n",
        "# his_bi = cv2.bilateralFilter(tm,3,90,90)\n",
        "\n",
        "# tm = tec[1].augment_image(img)\n",
        "# shar_edge = tec[0].augment_image(tm)\n",
        "\n",
        "# tm = tec[7].augment_image(img)\n",
        "# his_gamma = tec[5].augment_image(tm)\n",
        "\n",
        "\n",
        "# plt.figure(figsize=(12, 6))\n",
        "\n",
        "# plt.suptitle(\"Application of Different Filters\", fontsize=16)\n",
        "\n",
        "# plt.subplot(2, 4, 1)\n",
        "# plt.imshow(img)\n",
        "# plt.title(\"Original\")\n",
        "# plt.axis('off')  # Turn off axis values\n",
        "\n",
        "# plt.subplot(2, 4, 2)\n",
        "# plt.imshow(bilateral)\n",
        "# plt.title(\"Bilateral\")\n",
        "# plt.axis('off')  # Turn off axis values\n",
        "\n",
        "# plt.subplot(2, 4, 3)\n",
        "# plt.imshow(Gaussian)\n",
        "# plt.title(\"Gaussian Blur\")\n",
        "# plt.axis('off')  # Turn off axis values\n",
        "\n",
        "# plt.subplot(2, 4, 4)\n",
        "# plt.imshow(median)\n",
        "# plt.title(\"Median Blur\")\n",
        "# plt.axis('off')  # Turn off axis values\n",
        "\n",
        "# plt.subplot(2, 4, 5)\n",
        "# plt.imshow(unsharp)\n",
        "# plt.title(\"Unsharp Mask\")\n",
        "# plt.axis('off')  # Turn off axis values\n",
        "\n",
        "# plt.subplot(2, 4, 6)\n",
        "# plt.imshow(his_bi)\n",
        "# plt.title(\"Histogram equalization \\n& Bilateral\")\n",
        "# plt.axis('off')  # Turn off axis values\n",
        "\n",
        "# plt.subplot(2, 4, 7)\n",
        "# plt.imshow(shar_edge)\n",
        "# plt.title(\"Sharpen \\n& Edge detection\")\n",
        "# plt.axis('off')  # Turn off axis values\n",
        "\n",
        "# plt.subplot(2, 4, 8)\n",
        "# plt.imshow(his_gamma)\n",
        "# plt.title(\"Histogram equalization \\n& Gamma contrast\")\n",
        "# plt.axis('off')  # Turn off axis values\n",
        "\n",
        "# plt.tight_layout()  # Ensure subplots don't overlap\n",
        "plt.axis('off')\n",
        "plt.imshow(bilateral)\n",
        "plt.savefig('filters.jpg', bbox_inches='tight', dpi =300)"
      ],
      "metadata": {
        "id": "_fOx8V9NccaA"
      },
      "execution_count": null,
      "outputs": []
    }
  ]
}