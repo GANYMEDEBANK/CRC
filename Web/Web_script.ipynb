{
  "nbformat": 4,
  "nbformat_minor": 0,
  "metadata": {
    "colab": {
      "provenance": []
    },
    "kernelspec": {
      "name": "python3",
      "display_name": "Python 3"
    },
    "language_info": {
      "name": "python"
    }
  },
  "cells": [
    {
      "cell_type": "code",
      "execution_count": null,
      "metadata": {
        "colab": {
          "base_uri": "https://localhost:8080/"
        },
        "id": "YkrVQBN_7_LR",
        "outputId": "202acf71-6a0b-4d7a-c4a9-88d08717684c"
      },
      "outputs": [
        {
          "output_type": "stream",
          "name": "stdout",
          "text": [
            "Mounted at /content/drive\n"
          ]
        }
      ],
      "source": [
        "from google.colab import drive\n",
        "drive.mount('/content/drive')"
      ]
    },
    {
      "cell_type": "code",
      "source": [
        "import pickle\n",
        "import cv2\n",
        "from keras.models import load_model\n",
        "import numpy as np\n",
        "import tensorflow as tf\n",
        "from skimage import io\n",
        "import pandas as pd\n",
        "import glob\n",
        "import os"
      ],
      "metadata": {
        "id": "Yv2LJQ1V8EIZ"
      },
      "execution_count": null,
      "outputs": []
    },
    {
      "cell_type": "code",
      "source": [
        "label_dict = {\n",
        "    0: \"TUMOR\",\n",
        "    1: \"STROMA\",\n",
        "    2: \"COMPLEX\",\n",
        "    3: \"LYMPHO\",\n",
        "    4: \"DEBRIS\",\n",
        "    5: \"MUCOSA\",\n",
        "    6: \"ADIPOSE\",\n",
        "    7: \"EMPTY\"\n",
        "}"
      ],
      "metadata": {
        "id": "P2mdnNRPQI8h"
      },
      "execution_count": null,
      "outputs": []
    },
    {
      "cell_type": "code",
      "source": [
        "cnn_model = load_model('/content/drive/MyDrive/Filters_colorectal/best_model.h5')"
      ],
      "metadata": {
        "id": "s_ZKtHTR9Ezc"
      },
      "execution_count": null,
      "outputs": []
    },
    {
      "cell_type": "code",
      "source": [
        "features_layer1 = tf.keras.models.Model(\n",
        "    inputs=cnn_model.inputs,\n",
        "    outputs=cnn_model.get_layer(name=\"layer1024\").output,\n",
        ")"
      ],
      "metadata": {
        "id": "KL2_vCkt-sYF"
      },
      "execution_count": null,
      "outputs": []
    },
    {
      "cell_type": "code",
      "source": [
        "def feat(img):\n",
        "  img = cv2.resize(img, (150, 150))\n",
        "  img = cv2.bilateralFilter(img,3,90,90)\n",
        "  img = np.array(img)\n",
        "  img = np.expand_dims(img, axis=0)\n",
        "  feat = features_layer1(img)\n",
        "  feat = np.array(feat)\n",
        "  return feat"
      ],
      "metadata": {
        "id": "VLOsuHhw8UIg"
      },
      "execution_count": null,
      "outputs": []
    },
    {
      "cell_type": "code",
      "source": [
        "def cnn_pred(img):\n",
        "  img = cv2.resize(img, (150, 150))\n",
        "  img = cv2.bilateralFilter(img,3,90,90)\n",
        "  img = np.array(img)\n",
        "  img = np.expand_dims(img, axis=0)\n",
        "  pred_cnn = cnn_model.predict(img)\n",
        "  pred = np.argmax(pred_cnn)\n",
        "  print(\"The predicted clas is\", label_dict[pred])"
      ],
      "metadata": {
        "id": "HJjSk32F_cFN"
      },
      "execution_count": null,
      "outputs": []
    },
    {
      "cell_type": "code",
      "source": [
        "img = io.imread('/content/drive/MyDrive/png/07_ADIPOSE/image_101.png',0)\n",
        "cnn_pred(img)"
      ],
      "metadata": {
        "colab": {
          "base_uri": "https://localhost:8080/"
        },
        "id": "GxVqTry48wJ7",
        "outputId": "4997065c-01c6-422e-b75a-671ea6598d7e"
      },
      "execution_count": null,
      "outputs": [
        {
          "output_type": "stream",
          "name": "stdout",
          "text": [
            "1/1 [==============================] - 0s 497ms/step\n",
            "The predicted clas is ADIPOSE\n"
          ]
        }
      ]
    },
    {
      "cell_type": "markdown",
      "source": [
        "#feature selection"
      ],
      "metadata": {
        "id": "QQs-XKyVDQb2"
      }
    },
    {
      "cell_type": "code",
      "source": [
        "features = feat(img).flatten()\n",
        "\n",
        "data = []\n",
        "header = [f\"f_{i}\" for i in range(1, 1025)]\n",
        "data.append(features)\n",
        "df = pd.DataFrame(data, columns=header)"
      ],
      "metadata": {
        "id": "t6PNK-Yv_Cgv"
      },
      "execution_count": null,
      "outputs": []
    },
    {
      "cell_type": "code",
      "source": [
        "features.shape"
      ],
      "metadata": {
        "colab": {
          "base_uri": "https://localhost:8080/"
        },
        "id": "E9qzM0_ai80S",
        "outputId": "3ef51b2b-1bfd-4161-a6a5-7fc8c2c8c1e1"
      },
      "execution_count": null,
      "outputs": [
        {
          "output_type": "execute_result",
          "data": {
            "text/plain": [
              "(1024,)"
            ]
          },
          "metadata": {},
          "execution_count": 10
        }
      ]
    },
    {
      "cell_type": "code",
      "source": [
        "def give_selected(df):\n",
        "  with open('/content/drive/MyDrive/Filters_colorectal/RFE/rfe.pkl', 'rb') as model_file:\n",
        "    rfe_model = pickle.load(model_file)\n",
        "  s_f = rfe_model.support_\n",
        "  selected_features = []\n",
        "\n",
        "  for feature, selected in zip(df.columns, s_f):\n",
        "    if selected:\n",
        "        selected_features.append(feature)\n",
        "  df = df[selected_features].copy()\n",
        "  return df"
      ],
      "metadata": {
        "id": "rfCRtxdeB5wV"
      },
      "execution_count": null,
      "outputs": []
    },
    {
      "cell_type": "code",
      "source": [
        "sub_df = give_selected(df)"
      ],
      "metadata": {
        "id": "d83RxuiECtIQ"
      },
      "execution_count": null,
      "outputs": []
    },
    {
      "cell_type": "code",
      "source": [
        "sub_df"
      ],
      "metadata": {
        "colab": {
          "base_uri": "https://localhost:8080/",
          "height": 130
        },
        "id": "RAAjM9SelPOJ",
        "outputId": "15714f0d-8200-4954-b0fb-76de2b4e8557"
      },
      "execution_count": null,
      "outputs": [
        {
          "output_type": "execute_result",
          "data": {
            "text/plain": [
              "        f_6  f_12       f_13  f_19  f_20      f_25  f_26       f_31  f_40  \\\n",
              "0  4.596785   0.0  43.142281   0.0   0.0  0.599575   0.0  10.986145   0.0   \n",
              "\n",
              "   f_45  ...  f_993     f_994      f_996  f_1002     f_1005    f_1008  f_1011  \\\n",
              "0   0.0  ...    0.0  7.763802  14.238513     0.0  19.560871  4.491216     0.0   \n",
              "\n",
              "     f_1015     f_1017  f_1024  \n",
              "0  0.432424  10.692594     0.0  \n",
              "\n",
              "[1 rows x 409 columns]"
            ],
            "text/html": [
              "\n",
              "  <div id=\"df-089eadfd-813c-4507-acc1-3547b95afc06\" class=\"colab-df-container\">\n",
              "    <div>\n",
              "<style scoped>\n",
              "    .dataframe tbody tr th:only-of-type {\n",
              "        vertical-align: middle;\n",
              "    }\n",
              "\n",
              "    .dataframe tbody tr th {\n",
              "        vertical-align: top;\n",
              "    }\n",
              "\n",
              "    .dataframe thead th {\n",
              "        text-align: right;\n",
              "    }\n",
              "</style>\n",
              "<table border=\"1\" class=\"dataframe\">\n",
              "  <thead>\n",
              "    <tr style=\"text-align: right;\">\n",
              "      <th></th>\n",
              "      <th>f_6</th>\n",
              "      <th>f_12</th>\n",
              "      <th>f_13</th>\n",
              "      <th>f_19</th>\n",
              "      <th>f_20</th>\n",
              "      <th>f_25</th>\n",
              "      <th>f_26</th>\n",
              "      <th>f_31</th>\n",
              "      <th>f_40</th>\n",
              "      <th>f_45</th>\n",
              "      <th>...</th>\n",
              "      <th>f_993</th>\n",
              "      <th>f_994</th>\n",
              "      <th>f_996</th>\n",
              "      <th>f_1002</th>\n",
              "      <th>f_1005</th>\n",
              "      <th>f_1008</th>\n",
              "      <th>f_1011</th>\n",
              "      <th>f_1015</th>\n",
              "      <th>f_1017</th>\n",
              "      <th>f_1024</th>\n",
              "    </tr>\n",
              "  </thead>\n",
              "  <tbody>\n",
              "    <tr>\n",
              "      <th>0</th>\n",
              "      <td>4.596785</td>\n",
              "      <td>0.0</td>\n",
              "      <td>43.142281</td>\n",
              "      <td>0.0</td>\n",
              "      <td>0.0</td>\n",
              "      <td>0.599575</td>\n",
              "      <td>0.0</td>\n",
              "      <td>10.986145</td>\n",
              "      <td>0.0</td>\n",
              "      <td>0.0</td>\n",
              "      <td>...</td>\n",
              "      <td>0.0</td>\n",
              "      <td>7.763802</td>\n",
              "      <td>14.238513</td>\n",
              "      <td>0.0</td>\n",
              "      <td>19.560871</td>\n",
              "      <td>4.491216</td>\n",
              "      <td>0.0</td>\n",
              "      <td>0.432424</td>\n",
              "      <td>10.692594</td>\n",
              "      <td>0.0</td>\n",
              "    </tr>\n",
              "  </tbody>\n",
              "</table>\n",
              "<p>1 rows × 409 columns</p>\n",
              "</div>\n",
              "    <div class=\"colab-df-buttons\">\n",
              "\n",
              "  <div class=\"colab-df-container\">\n",
              "    <button class=\"colab-df-convert\" onclick=\"convertToInteractive('df-089eadfd-813c-4507-acc1-3547b95afc06')\"\n",
              "            title=\"Convert this dataframe to an interactive table.\"\n",
              "            style=\"display:none;\">\n",
              "\n",
              "  <svg xmlns=\"http://www.w3.org/2000/svg\" height=\"24px\" viewBox=\"0 -960 960 960\">\n",
              "    <path d=\"M120-120v-720h720v720H120Zm60-500h600v-160H180v160Zm220 220h160v-160H400v160Zm0 220h160v-160H400v160ZM180-400h160v-160H180v160Zm440 0h160v-160H620v160ZM180-180h160v-160H180v160Zm440 0h160v-160H620v160Z\"/>\n",
              "  </svg>\n",
              "    </button>\n",
              "\n",
              "  <style>\n",
              "    .colab-df-container {\n",
              "      display:flex;\n",
              "      gap: 12px;\n",
              "    }\n",
              "\n",
              "    .colab-df-convert {\n",
              "      background-color: #E8F0FE;\n",
              "      border: none;\n",
              "      border-radius: 50%;\n",
              "      cursor: pointer;\n",
              "      display: none;\n",
              "      fill: #1967D2;\n",
              "      height: 32px;\n",
              "      padding: 0 0 0 0;\n",
              "      width: 32px;\n",
              "    }\n",
              "\n",
              "    .colab-df-convert:hover {\n",
              "      background-color: #E2EBFA;\n",
              "      box-shadow: 0px 1px 2px rgba(60, 64, 67, 0.3), 0px 1px 3px 1px rgba(60, 64, 67, 0.15);\n",
              "      fill: #174EA6;\n",
              "    }\n",
              "\n",
              "    .colab-df-buttons div {\n",
              "      margin-bottom: 4px;\n",
              "    }\n",
              "\n",
              "    [theme=dark] .colab-df-convert {\n",
              "      background-color: #3B4455;\n",
              "      fill: #D2E3FC;\n",
              "    }\n",
              "\n",
              "    [theme=dark] .colab-df-convert:hover {\n",
              "      background-color: #434B5C;\n",
              "      box-shadow: 0px 1px 3px 1px rgba(0, 0, 0, 0.15);\n",
              "      filter: drop-shadow(0px 1px 2px rgba(0, 0, 0, 0.3));\n",
              "      fill: #FFFFFF;\n",
              "    }\n",
              "  </style>\n",
              "\n",
              "    <script>\n",
              "      const buttonEl =\n",
              "        document.querySelector('#df-089eadfd-813c-4507-acc1-3547b95afc06 button.colab-df-convert');\n",
              "      buttonEl.style.display =\n",
              "        google.colab.kernel.accessAllowed ? 'block' : 'none';\n",
              "\n",
              "      async function convertToInteractive(key) {\n",
              "        const element = document.querySelector('#df-089eadfd-813c-4507-acc1-3547b95afc06');\n",
              "        const dataTable =\n",
              "          await google.colab.kernel.invokeFunction('convertToInteractive',\n",
              "                                                    [key], {});\n",
              "        if (!dataTable) return;\n",
              "\n",
              "        const docLinkHtml = 'Like what you see? Visit the ' +\n",
              "          '<a target=\"_blank\" href=https://colab.research.google.com/notebooks/data_table.ipynb>data table notebook</a>'\n",
              "          + ' to learn more about interactive tables.';\n",
              "        element.innerHTML = '';\n",
              "        dataTable['output_type'] = 'display_data';\n",
              "        await google.colab.output.renderOutput(dataTable, element);\n",
              "        const docLink = document.createElement('div');\n",
              "        docLink.innerHTML = docLinkHtml;\n",
              "        element.appendChild(docLink);\n",
              "      }\n",
              "    </script>\n",
              "  </div>\n",
              "\n",
              "    </div>\n",
              "  </div>\n"
            ]
          },
          "metadata": {},
          "execution_count": 13
        }
      ]
    },
    {
      "cell_type": "markdown",
      "source": [
        "#stacking\n"
      ],
      "metadata": {
        "id": "ubcHkpsrDLal"
      }
    },
    {
      "cell_type": "code",
      "source": [
        "def get_stacking_pred(final_df):\n",
        "  with open('/content/drive/MyDrive/Filters_colorectal/RFE/knn.pkl', 'rb') as model_file:\n",
        "    knn_model = pickle.load(model_file)\n",
        "  with open('/content/drive/MyDrive/Filters_colorectal/RFE/svm.pkl', 'rb') as model_file:\n",
        "    svm_model = pickle.load(model_file)\n",
        "  with open('/content/drive/MyDrive/Filters_colorectal/RFE/rfc.pkl', 'rb') as model_file:\n",
        "    rfc_model = pickle.load(model_file)\n",
        "  with open('/content/drive/MyDrive/Filters_colorectal/RFE/mlp.pkl', 'rb') as model_file:\n",
        "    mlp_model = pickle.load(model_file)\n",
        "  with open('/content/drive/MyDrive/Filters_colorectal/RFE/fs_best_40.pkl', 'rb') as model_file:\n",
        "    stack_model = pickle.load(model_file)\n",
        "\n",
        "  probs_model1_test = knn_model.predict_proba(final_df)\n",
        "  probs_model2_test = svm_model.predict_proba(final_df)\n",
        "  probs_model3_test = rfc_model.predict_proba(final_df)\n",
        "  probs_model4_test = mlp_model.predict_proba(final_df)\n",
        "\n",
        "  meta_features_test = np.concatenate((probs_model1_test, probs_model2_test, probs_model3_test, probs_model4_test), axis=1)\n",
        "\n",
        "  pred = stack_model.predict(meta_features_test)\n",
        "\n",
        "  pred_p = stack_model.predict_proba(meta_features_test)\n",
        "  pred_p = max(pred_p.flatten())\n",
        "  print(pred_p*100)\n",
        "  print(\"The predicted clas is\", label_dict[int(pred[0])])"
      ],
      "metadata": {
        "id": "kV3cmNsfDJr3"
      },
      "execution_count": null,
      "outputs": []
    },
    {
      "cell_type": "code",
      "source": [
        "get_stacking_pred(sub_df)"
      ],
      "metadata": {
        "colab": {
          "base_uri": "https://localhost:8080/"
        },
        "id": "ljS5kN8VIMro",
        "outputId": "75fd8a3d-d96c-4808-c6e3-c3b255c2221f"
      },
      "execution_count": null,
      "outputs": [
        {
          "output_type": "stream",
          "name": "stdout",
          "text": [
            "46.97066463030997\n",
            "The predicted clas is ADIPOSE\n"
          ]
        }
      ]
    }
  ]
}