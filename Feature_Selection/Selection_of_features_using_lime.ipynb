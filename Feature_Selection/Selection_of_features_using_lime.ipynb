{
  "cells": [
    {
      "cell_type": "code",
      "execution_count": null,
      "metadata": {
        "id": "kNXZyH7VjKQE"
      },
      "outputs": [],
      "source": [
        "import numpy as np\n",
        "import pandas as pd"
      ]
    },
    {
      "cell_type": "code",
      "execution_count": null,
      "metadata": {
        "colab": {
          "base_uri": "https://localhost:8080/"
        },
        "id": "NSPK1IlzjWp6",
        "outputId": "4c4cf018-676e-4bd2-e7fe-1f186b3e59ea"
      },
      "outputs": [
        {
          "name": "stdout",
          "output_type": "stream",
          "text": [
            "Mounted at /content/drive\n"
          ]
        }
      ],
      "source": [
        "from google.colab import drive\n",
        "drive.mount('/content/drive')"
      ]
    },
    {
      "cell_type": "code",
      "execution_count": null,
      "metadata": {
        "id": "hqb8q5lyjYNx"
      },
      "outputs": [],
      "source": [
        "train = pd.read_csv(\"/content/drive/MyDrive/Filters_colorectal/selected_train_features_with_plof_wo_cluster.csv\")\n",
        "test = pd.read_csv(\"/content/drive/MyDrive/Filters_colorectal/selected_test_features_with_plof_wo_cluster.csv\")"
      ]
    },
    {
      "cell_type": "code",
      "execution_count": null,
      "metadata": {
        "id": "zdRZL8r8jeo1"
      },
      "outputs": [],
      "source": [
        "X_train = train.drop([\"plof_scores\",\"label\", \"loss\"], axis = 1)\n",
        "X_test = test.drop([\"plof_scores\",\"label\", \"loss\"], axis = 1)\n",
        "y_train = train[\"label\"]\n",
        "y_test = test[\"label\"]"
      ]
    },
    {
      "cell_type": "code",
      "execution_count": null,
      "metadata": {
        "colab": {
          "base_uri": "https://localhost:8080/",
          "height": 74
        },
        "id": "AIdcnFb6jhaL",
        "outputId": "8223f68e-271f-431a-9673-714b10fd3882"
      },
      "outputs": [
        {
          "data": {
            "text/html": [
              "<style>#sk-container-id-1 {color: black;background-color: white;}#sk-container-id-1 pre{padding: 0;}#sk-container-id-1 div.sk-toggleable {background-color: white;}#sk-container-id-1 label.sk-toggleable__label {cursor: pointer;display: block;width: 100%;margin-bottom: 0;padding: 0.3em;box-sizing: border-box;text-align: center;}#sk-container-id-1 label.sk-toggleable__label-arrow:before {content: \"▸\";float: left;margin-right: 0.25em;color: #696969;}#sk-container-id-1 label.sk-toggleable__label-arrow:hover:before {color: black;}#sk-container-id-1 div.sk-estimator:hover label.sk-toggleable__label-arrow:before {color: black;}#sk-container-id-1 div.sk-toggleable__content {max-height: 0;max-width: 0;overflow: hidden;text-align: left;background-color: #f0f8ff;}#sk-container-id-1 div.sk-toggleable__content pre {margin: 0.2em;color: black;border-radius: 0.25em;background-color: #f0f8ff;}#sk-container-id-1 input.sk-toggleable__control:checked~div.sk-toggleable__content {max-height: 200px;max-width: 100%;overflow: auto;}#sk-container-id-1 input.sk-toggleable__control:checked~label.sk-toggleable__label-arrow:before {content: \"▾\";}#sk-container-id-1 div.sk-estimator input.sk-toggleable__control:checked~label.sk-toggleable__label {background-color: #d4ebff;}#sk-container-id-1 div.sk-label input.sk-toggleable__control:checked~label.sk-toggleable__label {background-color: #d4ebff;}#sk-container-id-1 input.sk-hidden--visually {border: 0;clip: rect(1px 1px 1px 1px);clip: rect(1px, 1px, 1px, 1px);height: 1px;margin: -1px;overflow: hidden;padding: 0;position: absolute;width: 1px;}#sk-container-id-1 div.sk-estimator {font-family: monospace;background-color: #f0f8ff;border: 1px dotted black;border-radius: 0.25em;box-sizing: border-box;margin-bottom: 0.5em;}#sk-container-id-1 div.sk-estimator:hover {background-color: #d4ebff;}#sk-container-id-1 div.sk-parallel-item::after {content: \"\";width: 100%;border-bottom: 1px solid gray;flex-grow: 1;}#sk-container-id-1 div.sk-label:hover label.sk-toggleable__label {background-color: #d4ebff;}#sk-container-id-1 div.sk-serial::before {content: \"\";position: absolute;border-left: 1px solid gray;box-sizing: border-box;top: 0;bottom: 0;left: 50%;z-index: 0;}#sk-container-id-1 div.sk-serial {display: flex;flex-direction: column;align-items: center;background-color: white;padding-right: 0.2em;padding-left: 0.2em;position: relative;}#sk-container-id-1 div.sk-item {position: relative;z-index: 1;}#sk-container-id-1 div.sk-parallel {display: flex;align-items: stretch;justify-content: center;background-color: white;position: relative;}#sk-container-id-1 div.sk-item::before, #sk-container-id-1 div.sk-parallel-item::before {content: \"\";position: absolute;border-left: 1px solid gray;box-sizing: border-box;top: 0;bottom: 0;left: 50%;z-index: -1;}#sk-container-id-1 div.sk-parallel-item {display: flex;flex-direction: column;z-index: 1;position: relative;background-color: white;}#sk-container-id-1 div.sk-parallel-item:first-child::after {align-self: flex-end;width: 50%;}#sk-container-id-1 div.sk-parallel-item:last-child::after {align-self: flex-start;width: 50%;}#sk-container-id-1 div.sk-parallel-item:only-child::after {width: 0;}#sk-container-id-1 div.sk-dashed-wrapped {border: 1px dashed gray;margin: 0 0.4em 0.5em 0.4em;box-sizing: border-box;padding-bottom: 0.4em;background-color: white;}#sk-container-id-1 div.sk-label label {font-family: monospace;font-weight: bold;display: inline-block;line-height: 1.2em;}#sk-container-id-1 div.sk-label-container {text-align: center;}#sk-container-id-1 div.sk-container {/* jupyter's `normalize.less` sets `[hidden] { display: none; }` but bootstrap.min.css set `[hidden] { display: none !important; }` so we also need the `!important` here to be able to override the default hidden behavior on the sphinx rendered scikit-learn.org. See: https://github.com/scikit-learn/scikit-learn/issues/21755 */display: inline-block !important;position: relative;}#sk-container-id-1 div.sk-text-repr-fallback {display: none;}</style><div id=\"sk-container-id-1\" class=\"sk-top-container\"><div class=\"sk-text-repr-fallback\"><pre>SVC(C=1.5, probability=True)</pre><b>In a Jupyter environment, please rerun this cell to show the HTML representation or trust the notebook. <br />On GitHub, the HTML representation is unable to render, please try loading this page with nbviewer.org.</b></div><div class=\"sk-container\" hidden><div class=\"sk-item\"><div class=\"sk-estimator sk-toggleable\"><input class=\"sk-toggleable__control sk-hidden--visually\" id=\"sk-estimator-id-1\" type=\"checkbox\" checked><label for=\"sk-estimator-id-1\" class=\"sk-toggleable__label sk-toggleable__label-arrow\">SVC</label><div class=\"sk-toggleable__content\"><pre>SVC(C=1.5, probability=True)</pre></div></div></div></div></div>"
            ],
            "text/plain": [
              "SVC(C=1.5, probability=True)"
            ]
          },
          "execution_count": 5,
          "metadata": {},
          "output_type": "execute_result"
        }
      ],
      "source": [
        "from sklearn.ensemble import RandomForestClassifier\n",
        "rfc = RandomForestClassifier(\n",
        "    n_estimators=1200,\n",
        "    max_depth=20,\n",
        "    min_samples_leaf=1,\n",
        "    random_state=42\n",
        ")\n",
        "rfc.fit(X_train, y_train)"
      ]
    },
    {
      "cell_type": "code",
      "execution_count": null,
      "metadata": {
        "colab": {
          "base_uri": "https://localhost:8080/"
        },
        "id": "UgMOL0jvte0Y",
        "outputId": "633d2187-4580-4c49-c616-9dd5002038ff"
      },
      "outputs": [
        {
          "name": "stdout",
          "output_type": "stream",
          "text": [
            "Model accuracy with selected features: 0.92\n"
          ]
        }
      ],
      "source": [
        "accuracy = rfc.score(X_test, y_test)\n",
        "print(\"Model accuracy with selected features:\", accuracy)"
      ]
    },
    {
      "cell_type": "code",
      "execution_count": null,
      "metadata": {
        "colab": {
          "base_uri": "https://localhost:8080/"
        },
        "id": "PSWtabpjjhjT",
        "outputId": "10436ae7-676f-4277-b1c6-05b162432517"
      },
      "outputs": [],
      "source": [
        "!pip install lime\n",
        "import lime\n",
        "import lime.lime_tabular"
      ]
    },
    {
      "cell_type": "code",
      "execution_count": null,
      "metadata": {
        "id": "THQuWc7Wj2h-"
      },
      "outputs": [],
      "source": [
        "feature_names = X_train.columns\n",
        "class_names = y_train.unique()"
      ]
    },
    {
      "cell_type": "code",
      "execution_count": null,
      "metadata": {
        "id": "_jLX1O87kibn"
      },
      "outputs": [],
      "source": [
        "# Instantiate a LIME explainer object\n",
        "explainer = lime.lime_tabular.LimeTabularExplainer(\n",
        "    X_train.values,\n",
        "    feature_names=feature_names,\n",
        "    class_names=class_names,\n",
        "    feature_selection='auto'\n",
        "    )"
      ]
    },
    {
      "cell_type": "code",
      "execution_count": null,
      "metadata": {
        "id": "bpZGnChdmGZS"
      },
      "outputs": [],
      "source": [
        "# Select a subset of instances for explanation\n",
        "explaining_instances = X_test.sample(n=200, random_state=42)"
      ]
    },
    {
      "cell_type": "code",
      "execution_count": null,
      "metadata": {
        "colab": {
          "base_uri": "https://localhost:8080/"
        },
        "id": "GTg9f8bPmPgm",
        "outputId": "20106f7f-daa1-4a09-f834-4a8cad475303"
      },
      "outputs": [],
      "source": [
        "# Generate explanations for the selected instances\n",
        "explanations = []\n",
        "for i in range(len(explaining_instances)):\n",
        "    explanation = explainer.explain_instance(explaining_instances.iloc[i], rfc.predict_proba, num_features=len(X_train.columns))\n",
        "    explanations.append(explanation)"
      ]
    },
    {
      "cell_type": "code",
      "execution_count": null,
      "metadata": {
        "id": "-boCfEygsm8E"
      },
      "outputs": [],
      "source": [
        "# Extract Feature Importance Scores\n",
        "feature_importances = []\n",
        "for explanation in explanations:\n",
        "    # Extract feature importance scores for each instance\n",
        "    importance_scores = [imp[1] for imp in explanation.as_list()]\n",
        "    feature_importances.append(importance_scores)"
      ]
    },
    {
      "cell_type": "code",
      "execution_count": null,
      "metadata": {
        "id": "M0VC6EKRsy5y"
      },
      "outputs": [],
      "source": [
        "# Calculate the average importance scores across all instances\n",
        "average_importances = np.mean(feature_importances, axis=0)"
      ]
    },
    {
      "cell_type": "code",
      "execution_count": null,
      "metadata": {
        "id": "O42dSsVrs-Ow"
      },
      "outputs": [],
      "source": [
        "# Rank Features and Select Top 50% on their importance scores\n",
        "def feat(per):\n",
        "  feature_ranking = pd.DataFrame({'Feature': X_train.columns, 'Importance': average_importances}).sort_values(by='Importance', ascending=False)\n",
        "\n",
        "  selected_features = feature_ranking.head(int(len(X_train.columns) * per))['Feature'].tolist()\n",
        "  tr = X_train[selected_features].copy()\n",
        "  ts = X_test[selected_features].copy()\n",
        "  train = pd.concat([tr, y_train], axis = 1)\n",
        "  test = pd.concat([ts, y_test], axis = 1)\n",
        "  tm = per*100\n",
        "  train_path = f\"/content/drive/MyDrive/Filters_colorectal/LIME/train_{tm}_lime_svm_selected.csv\"\n",
        "  test_path = f\"/content/drive/MyDrive/Filters_colorectal/LIME/test_{tm}_lime_svm_selected.csv\"\n",
        "  train.to_csv(train_path, index=False)\n",
        "  test.to_csv(test_path, index=False)"
      ]
    },
    {
      "cell_type": "code",
      "execution_count": null,
      "metadata": {
        "id": "rPkqoxOF98z3"
      },
      "outputs": [],
      "source": [
        "ls = [0.2, 0.4 , 0.5 , 0.6 , 0.8]\n",
        "for x in ls:\n",
        "  feat(x)"
      ]
    }
  ],
  "metadata": {
    "colab": {
      "provenance": []
    },
    "kernelspec": {
      "display_name": "Python 3",
      "name": "python3"
    },
    "language_info": {
      "name": "python"
    }
  },
  "nbformat": 4,
  "nbformat_minor": 0
}
